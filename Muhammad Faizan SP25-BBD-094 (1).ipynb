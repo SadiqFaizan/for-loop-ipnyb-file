{
 "cells": [
  {
   "cell_type": "markdown",
   "id": "7093c450-6f29-4c8f-b46c-8c8e7356763e",
   "metadata": {},
   "source": [
    "Question#1:Write a for loop to print all even numbers from 2 to 20."
   ]
  },
  {
   "cell_type": "code",
   "execution_count": 2,
   "id": "95ade32f-4cc5-4f1b-8888-1c8725939cf3",
   "metadata": {},
   "outputs": [
    {
     "name": "stdout",
     "output_type": "stream",
     "text": [
      "2\n",
      "4\n",
      "6\n",
      "8\n",
      "10\n",
      "12\n",
      "14\n",
      "16\n",
      "18\n"
     ]
    }
   ],
   "source": [
    "for i in range (2,20,2):\n",
    "  print(i)"
   ]
  },
  {
   "cell_type": "markdown",
   "id": "0f007267-aa18-4c9e-ba6c-71dd62f3fd88",
   "metadata": {},
   "source": [
    "Question#2:Create a list of names and use a for loop to print each name in uppercase."
   ]
  },
  {
   "cell_type": "code",
   "execution_count": 6,
   "id": "d20d813c-3b2f-42ad-8dcc-394c12148329",
   "metadata": {},
   "outputs": [
    {
     "name": "stdout",
     "output_type": "stream",
     "text": [
      "MOHSIN\n",
      "UMAR\n",
      "SAIF\n"
     ]
    }
   ],
   "source": [
    "names=[\"mohsin\",\"umar\",\"saif\"]\n",
    "for name in names:\n",
    "    print(name.upper())"
   ]
  },
  {
   "cell_type": "markdown",
   "id": "f464ecae-02e4-46a5-8c6b-667a62b7a97b",
   "metadata": {},
   "source": [
    "Question#3:Use a for loop with range() to print numbers from 10 to 1 in reverse order."
   ]
  },
  {
   "cell_type": "code",
   "execution_count": 8,
   "id": "99a2d17b-085d-4453-b008-80414988e9ab",
   "metadata": {},
   "outputs": [
    {
     "name": "stdout",
     "output_type": "stream",
     "text": [
      "10\n",
      "9\n",
      "8\n",
      "7\n",
      "6\n",
      "5\n",
      "4\n",
      "3\n",
      "2\n"
     ]
    }
   ],
   "source": [
    "for p in range(10,1,-1):\n",
    "    print(p)"
   ]
  },
  {
   "cell_type": "markdown",
   "id": "74a42425-7173-43a2-a64c-61c59198c449",
   "metadata": {},
   "source": [
    "Question#4:Iterate through a list of integers and print only the numbers that are divisible by 3."
   ]
  },
  {
   "cell_type": "code",
   "execution_count": 8,
   "id": "ffc65df0-e879-4519-aef3-cec38ab85abd",
   "metadata": {},
   "outputs": [
    {
     "name": "stdout",
     "output_type": "stream",
     "text": [
      "15\n",
      "57\n",
      "72\n"
     ]
    }
   ],
   "source": [
    "integers=[15,25,35,57,67,72]\n",
    "for h in integers:\n",
    "    if h % 3 == 0:\n",
    "        print(h)"
   ]
  },
  {
   "cell_type": "markdown",
   "id": "83b14822-57d1-48ff-accf-d4c7e318dfc8",
   "metadata": {},
   "source": [
    "Question#5:Write a loop that prints the squares of numbers from 1 to 10."
   ]
  },
  {
   "cell_type": "code",
   "execution_count": 14,
   "id": "b4e55ca7-27b8-4844-8beb-8aae5e512b5c",
   "metadata": {},
   "outputs": [
    {
     "name": "stdout",
     "output_type": "stream",
     "text": [
      "1\n",
      "4\n",
      "9\n",
      "16\n",
      "25\n",
      "36\n",
      "49\n",
      "64\n",
      "81\n"
     ]
    }
   ],
   "source": [
    "for p in range(1,10):\n",
    "    print(p**2)"
   ]
  },
  {
   "cell_type": "markdown",
   "id": "c4a2d69b-cf4c-4faa-8f2d-516177937d4a",
   "metadata": {},
   "source": [
    "Question#6:Given a list of temperatures in Celsius, use a for loop to convert each to Fahrenheit."
   ]
  },
  {
   "cell_type": "code",
   "execution_count": 9,
   "id": "8e9b9da0-e341-4803-9433-f0f42b187fa9",
   "metadata": {},
   "outputs": [
    {
     "name": "stdout",
     "output_type": "stream",
     "text": [
      "59.0\n",
      "80.6\n",
      "91.4\n",
      "102.2\n",
      "116.6\n"
     ]
    }
   ],
   "source": [
    "\n",
    "celsius_temp = [15, 27, 33, 39, 47]\n",
    "for temp in celsius_temp:\n",
    "    farenhite_temp = (temp * 9/5) + 32\n",
    "    print(farenhite_temp)"
   ]
  },
  {
   "cell_type": "markdown",
   "id": "ba7adf2c-b6a0-4737-9c90-fb85e83c8b07",
   "metadata": {},
   "source": [
    "Question#7:Create a for loop that prints the multiplication table of 5"
   ]
  },
  {
   "cell_type": "code",
   "execution_count": 24,
   "id": "2fe2a652-9a35-4e50-8a53-52db744afb63",
   "metadata": {},
   "outputs": [
    {
     "name": "stdout",
     "output_type": "stream",
     "text": [
      "5 *1 = 5\n",
      "5 *2 = 10\n",
      "5 *3 = 15\n",
      "5 *4 = 20\n",
      "5 *5 = 25\n",
      "5 *6 = 30\n",
      "5 *7 = 35\n",
      "5 *8 = 40\n",
      "5 *9 = 45\n",
      "5 *10 = 50\n"
     ]
    }
   ],
   "source": [
    "for f in range(1,11):\n",
    "    print(f\"{5} *{f} = {5*f}\")"
   ]
  },
  {
   "cell_type": "markdown",
   "id": "9d133812-b29a-439b-aae8-5adb7702f37b",
   "metadata": {},
   "source": [
    "Question#8:Write a program to find the sum of all numbers in a list using a for loop."
   ]
  },
  {
   "cell_type": "code",
   "execution_count": 46,
   "id": "10187c22-3183-4480-995a-e4b1b6ee7d4e",
   "metadata": {},
   "outputs": [
    {
     "name": "stdout",
     "output_type": "stream",
     "text": [
      "1\n",
      "3\n",
      "6\n",
      "10\n",
      "15\n",
      "21\n",
      "28\n",
      "36\n",
      "45\n",
      "55\n"
     ]
    }
   ],
   "source": [
    "numbers=[1,2,3,4,5,6,7,8,9,10]\n",
    "total=0\n",
    "for number in numbers:\n",
    "    total += number\n",
    "    print(total)"
   ]
  },
  {
   "cell_type": "markdown",
   "id": "3bf64694-002a-4d1f-b16d-fa001ad01081",
   "metadata": {},
   "source": [
    "Question#9:Use a for loop to iterate through a string and print each character separately."
   ]
  },
  {
   "cell_type": "code",
   "execution_count": 56,
   "id": "2e0755b7-c2d9-4927-9ade-e90d27c29f62",
   "metadata": {},
   "outputs": [
    {
     "name": "stdout",
     "output_type": "stream",
     "text": [
      "H\n",
      "e\n",
      "l\n",
      "l\n",
      "o\n"
     ]
    }
   ],
   "source": [
    "string=(\"Hello\")\n",
    "for t in string:\n",
    "    print(t)"
   ]
  },
  {
   "cell_type": "markdown",
   "id": "c0cdf6cf-a5e0-4dd1-8e25-9d88cb60b88d",
   "metadata": {},
   "source": [
    "Question#10:Create a list of words and use a for loop to print only the words with more than 5 letters."
   ]
  },
  {
   "cell_type": "code",
   "execution_count": 58,
   "id": "17e5dac8-bb86-4a6d-b377-2205714655e0",
   "metadata": {},
   "outputs": [
    {
     "name": "stdout",
     "output_type": "stream",
     "text": [
      "banana\n",
      "cherry\n",
      "strawberry\n",
      "pineappel\n"
     ]
    }
   ],
   "source": [
    "words=[\"appel\",\"banana\",\"cherry\",\"grape\",\"mango\",\"strawberry\",\"kiwi\",\"pineappel\"]\n",
    "for word in words:\n",
    "    if len(word)>5:\n",
    "        print(word)\n"
   ]
  }
 ],
 "metadata": {
  "kernelspec": {
   "display_name": "Python [conda env:base] *",
   "language": "python",
   "name": "conda-base-py"
  },
  "language_info": {
   "codemirror_mode": {
    "name": "ipython",
    "version": 3
   },
   "file_extension": ".py",
   "mimetype": "text/x-python",
   "name": "python",
   "nbconvert_exporter": "python",
   "pygments_lexer": "ipython3",
   "version": "3.12.7"
  }
 },
 "nbformat": 4,
 "nbformat_minor": 5
}
