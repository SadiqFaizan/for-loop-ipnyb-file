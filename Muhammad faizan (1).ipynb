{
 "cells": [
  {
   "cell_type": "code",
   "execution_count": 1,
   "id": "39266815-0116-41c0-b20b-48677b82a0bc",
   "metadata": {},
   "outputs": [
    {
     "name": "stdout",
     "output_type": "stream",
     "text": [
      "{'name': 'muhammad faizan', 'age': 18, 'city': 'lahore'}\n"
     ]
    }
   ],
   "source": [
    "my_dic={\"name\":\"muhammad faizan\",\"age\":18,\"city\":\"lahore\"}\n",
    "print(my_dic)"
   ]
  },
  {
   "cell_type": "code",
   "execution_count": 2,
   "id": "d727b92c-decc-4fc5-a583-ac6f7d71de0f",
   "metadata": {},
   "outputs": [
    {
     "name": "stdout",
     "output_type": "stream",
     "text": [
      "muhammad faizan\n"
     ]
    }
   ],
   "source": [
    "print(my_dic[\"name\"])"
   ]
  },
  {
   "cell_type": "code",
   "execution_count": 3,
   "id": "0b217c66-9ee7-48b5-a74f-acf0251836af",
   "metadata": {},
   "outputs": [
    {
     "name": "stdout",
     "output_type": "stream",
     "text": [
      "{'name': 'muhammad faizan', 'age': 19, 'city': 'lahore'}\n"
     ]
    }
   ],
   "source": [
    "my_dic[\"age\"]=19\n",
    "print(my_dic)"
   ]
  },
  {
   "cell_type": "code",
   "execution_count": 4,
   "id": "8b77227e-f9e2-4087-9720-836cccdc2e3d",
   "metadata": {},
   "outputs": [
    {
     "name": "stdout",
     "output_type": "stream",
     "text": [
      "{'name': 'muhammad faizan', 'age': 19, 'city': 'lahore', 'ocupation': 'data analyst'}\n"
     ]
    }
   ],
   "source": [
    "my_dic[\"ocupation\"]=\"data analyst\"\n",
    "print(my_dic)"
   ]
  },
  {
   "cell_type": "code",
   "execution_count": 5,
   "id": "3356887f-a9de-4fb1-b915-3bab8d0419df",
   "metadata": {},
   "outputs": [
    {
     "name": "stdout",
     "output_type": "stream",
     "text": [
      "{'name': 'muhammad faizan', 'age': 19, 'city': 'lahore'}\n"
     ]
    }
   ],
   "source": [
    "del my_dic[\"ocupation\"]\n",
    "print(my_dic)"
   ]
  },
  {
   "cell_type": "code",
   "execution_count": 6,
   "id": "03b81e00-a8ef-42b2-b108-79fea6da2f09",
   "metadata": {},
   "outputs": [
    {
     "name": "stdout",
     "output_type": "stream",
     "text": [
      "{'name': 'muhammad faizan', 'city': 'lahore'}\n"
     ]
    }
   ],
   "source": [
    "del my_dic[\"age\"]\n",
    "print(my_dic)"
   ]
  },
  {
   "cell_type": "code",
   "execution_count": 7,
   "id": "97a01f1a-11cc-4a6b-9ec3-b2d87991c7c5",
   "metadata": {},
   "outputs": [
    {
     "name": "stdout",
     "output_type": "stream",
     "text": [
      "name muhammad faizan\n",
      "city lahore\n"
     ]
    }
   ],
   "source": [
    "for key,value in my_dic.items():\n",
    "    print(key,value)"
   ]
  },
  {
   "cell_type": "code",
   "execution_count": 8,
   "id": "b889c97c-43ad-467e-94ab-2a6ff8169358",
   "metadata": {},
   "outputs": [
    {
     "name": "stdout",
     "output_type": "stream",
     "text": [
      "name\n",
      "city\n"
     ]
    }
   ],
   "source": [
    "for key,value in my_dic.items():\n",
    "    print(key)"
   ]
  },
  {
   "cell_type": "code",
   "execution_count": 9,
   "id": "efd049fd-a3d3-4218-8a0c-9c6d88618d4c",
   "metadata": {},
   "outputs": [
    {
     "name": "stdout",
     "output_type": "stream",
     "text": [
      "muhammad faizan\n",
      "lahore\n"
     ]
    }
   ],
   "source": [
    "for key,value in my_dic.items():\n",
    "    print(value)"
   ]
  },
  {
   "cell_type": "code",
   "execution_count": 10,
   "id": "3a7bf9ef-a123-4e79-ad56-f9f56d6b9a75",
   "metadata": {},
   "outputs": [
    {
     "name": "stdout",
     "output_type": "stream",
     "text": [
      "name muhammad faizan\n",
      "age 18\n",
      "coalification ics\n",
      "city lahore\n"
     ]
    }
   ],
   "source": [
    "my_dic={\"name\":\"muhammad faizan\",\"age\":18, \"coalification\":\"ics\",\"city\":\"lahore\"}\n",
    "for key,value in my_dic.items():\n",
    "     print(key,value)"
   ]
  },
  {
   "cell_type": "code",
   "execution_count": 11,
   "id": "9b7efce7-134a-431e-85f5-8d81cf6702e0",
   "metadata": {},
   "outputs": [
    {
     "name": "stdout",
     "output_type": "stream",
     "text": [
      "total sales 3600\n"
     ]
    }
   ],
   "source": [
    "sales_data={\"productA\":1200,\"productB\":1500,\"productC\":900}\n",
    "total_sales=sum(sales_data.values())\n",
    "print(\"total sales\",total_sales)"
   ]
  },
  {
   "cell_type": "code",
   "execution_count": 12,
   "id": "6306462f-e07b-4f05-8f17-08c9aa7c84b0",
   "metadata": {},
   "outputs": [
    {
     "name": "stdout",
     "output_type": "stream",
     "text": [
      "product with highest sales productB\n"
     ]
    }
   ],
   "source": [
    "max_sales= max(sales_data.values())\n",
    "for product,sales in sales_data.items():\n",
    "   if sales==max_sales:\n",
    "    print(\"product with highest sales\",product)"
   ]
  },
  {
   "cell_type": "code",
   "execution_count": 13,
   "id": "bc4d5e0d-ab22-47f7-9c9b-2105c44ba48e",
   "metadata": {},
   "outputs": [
    {
     "name": "stdout",
     "output_type": "stream",
     "text": [
      "product with lowest sales productC\n"
     ]
    }
   ],
   "source": [
    "min_sales=min(sales_data.values())\n",
    "for product,sales in sales_data.items():\n",
    "    if sales==min_sales:\n",
    "        print(\"product with lowest sales\",product)"
   ]
  },
  {
   "cell_type": "code",
   "execution_count": 14,
   "id": "61404930-bbc0-4b1c-9043-92dca139fc50",
   "metadata": {},
   "outputs": [
    {
     "name": "stdout",
     "output_type": "stream",
     "text": [
      "{'productA': 33.33333333333333, 'productB': 41.66666666666667, 'productC': 25.0}\n"
     ]
    }
   ],
   "source": [
    "total_sales = sum(sales_data.values())\n",
    "sales_percentages = {}\n",
    "for product, sales in sales_data.items():\n",
    "    percentage = (sales / total_sales) * 100\n",
    "    sales_percentages[product] = percentage\n",
    "print(sales_percentages)"
   ]
  },
  {
   "cell_type": "code",
   "execution_count": 15,
   "id": "a109d42d-d13a-4e28-9d6a-367bed3a05bb",
   "metadata": {},
   "outputs": [
    {
     "name": "stdout",
     "output_type": "stream",
     "text": [
      "{'name': 'muhammad faizan', 'age': 18, 'city': 'lahore', 'hobby': 'cricket'}\n"
     ]
    }
   ],
   "source": [
    "#QuestionA\n",
    "my_dic={\"name\": \"muhammad faizan\",\"age\":18,\"city\":\"lahore\",\"hobby\":\"cricket\"}\n",
    "print(my_dic)"
   ]
  },
  {
   "cell_type": "code",
   "execution_count": 16,
   "id": "c0643ffa-485b-45f2-8fff-a3dfe4434991",
   "metadata": {},
   "outputs": [
    {
     "name": "stdout",
     "output_type": "stream",
     "text": [
      "{'your': 5, 'text': 5, 'goes': 5, 'here': 5}\n"
     ]
    }
   ],
   "source": [
    "#QuestionB\n",
    "text=\"your text goes here\"\n",
    "counts={}\n",
    "for word in text.lower().split():\n",
    "    counts[word]=counts.get(word,0)+5\n",
    "print(counts)"
   ]
  },
  {
   "cell_type": "code",
   "execution_count": 17,
   "id": "ca49c95e-c25e-4bbc-9276-7577419e0d74",
   "metadata": {},
   "outputs": [
    {
     "name": "stdout",
     "output_type": "stream",
     "text": [
      "{'bag': 1500, 'cap': 300, 'shirt': 900, 'pant': 2000}\n"
     ]
    }
   ],
   "source": [
    "#QuestionC\n",
    "inoventry={\"bag\":1500,\"cap\":300,\"shirt\":900}\n",
    "inoventry[\"pant\"]= 2000\n",
    "print (inoventry)"
   ]
  },
  {
   "cell_type": "code",
   "execution_count": 18,
   "id": "06a46945-0655-4f9a-bf6c-daff15675885",
   "metadata": {},
   "outputs": [
    {
     "name": "stdout",
     "output_type": "stream",
     "text": [
      "product count: {'shirt': 2, 'bag': 1, 'pant': 2, 'trouser': 1}\n",
      "most popular product: shirt\n"
     ]
    }
   ],
   "source": [
    "#QuestionD\n",
    "oders=[\"shirt\",\"pant\",\"shirt\",\"bag\",\"pant\",\"trouser\"]\n",
    "popular={item:oders.count(item) for item in set(oders)}\n",
    "print(\"product count:\",popular)\n",
    "most=max(popular,key=popular.get)\n",
    "print(\"most popular product:\",most)"
   ]
  },
  {
   "cell_type": "code",
   "execution_count": 19,
   "id": "57fd307a-869c-4f24-a7f5-035df6f86cfb",
   "metadata": {},
   "outputs": [
    {
     "name": "stdout",
     "output_type": "stream",
     "text": [
      "average grade: 80.0\n"
     ]
    }
   ],
   "source": [
    "#QuestionE\n",
    "grades={\"zain\":75,\"faizan\":80,\"usman\":85}\n",
    "average= sum(grades.values())/len(grades)\n",
    "print(\"average grade:\",average)         "
   ]
  },
  {
   "cell_type": "code",
   "execution_count": 20,
   "id": "a02972fe-79b9-4ad9-8f6a-53f74c072bac",
   "metadata": {},
   "outputs": [
    {
     "name": "stdout",
     "output_type": "stream",
     "text": [
      "total inoventry value: 23200\n",
      "low stock items:\n",
      "bag quantity: 3\n"
     ]
    }
   ],
   "source": [
    "#QuestionF\n",
    "inoventry={\"shirt\":[8,1000],\"pant\":[4,1500],\"cap\":[4,300]}\n",
    "inoventry[\"bag\"]=[3,2000]\n",
    "inoventry[\"shirt\"][0] +=2\n",
    "total=0\n",
    "for item in inoventry:\n",
    "    qty=inoventry[item][0]\n",
    "    price=inoventry[item][1]\n",
    "    total+=qty*price\n",
    "print(\"total inoventry value:\",total)\n",
    "print(\"low stock items:\")\n",
    "for item in inoventry:\n",
    "    if inoventry[item][0]<4:\n",
    "        print(item,\"quantity:\",inoventry[item][0])"
   ]
  },
  {
   "cell_type": "code",
   "execution_count": 21,
   "id": "7dda4058-0b7c-4024-a631-4299325523cf",
   "metadata": {},
   "outputs": [
    {
     "name": "stdout",
     "output_type": "stream",
     "text": [
      "highest math grade: 75 lowest math grade: 70\n",
      "sorted students by average grade:\n",
      "usman average: 61.25\n",
      "zain average: 60.0\n",
      "ahmad average: 56.25\n"
     ]
    }
   ],
   "source": [
    "#QuestionG\n",
    "students={\"zain\":{\"math\":75,\"english\":80,\"science\":85},\"usman\":{\"math\":70,\"english\":90,\"science\":85},\"ahmad\":{\"math\":75,\"english\":65,\"science\":85}}\n",
    "for student in students:\n",
    "    total=students[student][\"math\"]+students[student][\"english\"]+students[student][\"science\"]\n",
    "    students[student][\"average\"]=total/4\n",
    "math_grades=[students[\"zain\"][\"math\"],students[\"usman\"][\"math\"],students[\"ahmad\"][\"math\"]]\n",
    "highest=max(math_grades)\n",
    "lowest=min(math_grades)\n",
    "print(\"highest math grade:\",highest,\"lowest math grade:\",lowest)\n",
    "sorted_students= sorted(students.items(), key=lambda y: y[1][\"average\"],reverse=True)\n",
    "print(\"sorted students by average grade:\")\n",
    "for student in sorted_students:\n",
    "    print(student[0],\"average:\",student[1][\"average\"])"
   ]
  },
  {
   "cell_type": "code",
   "execution_count": 1,
   "id": "edee34ae-796e-4072-b155-9d8fc3ab9f46",
   "metadata": {},
   "outputs": [
    {
     "ename": "SyntaxError",
     "evalue": "invalid syntax (2285651543.py, line 17)",
     "output_type": "error",
     "traceback": [
      "\u001b[1;36m  Cell \u001b[1;32mIn[1], line 17\u001b[1;36m\u001b[0m\n\u001b[1;33m    else:\u001b[0m\n\u001b[1;37m    ^\u001b[0m\n\u001b[1;31mSyntaxError\u001b[0m\u001b[1;31m:\u001b[0m invalid syntax\n"
     ]
    }
   ],
   "source": [
    "#QuestionH\n",
    "products={\"shirt\":[8,1000],\"pant\":[4,1500],\"cap\":[4,300],\"jacket\":[4,2500]}\n",
    "cart={}\n",
    "def add_to_cart(product,qty):\n",
    "    if product in products and products[product][1]>= qty:\n",
    "        cart[product]= cart.get(product,0)+qty\n",
    "        products[product][1]-=qty\n",
    "        print(f\"added{qty} {product}(s) to the cart.\")\n",
    "    else:\n",
    "        print(f\"not enough{product}s in stock.\")\n",
    "def remo_from_cart(product,qty):\n",
    "    if product in cart and cart[product]>=qty:\n",
    "        cart[product]-=qty\n",
    "        products[product][1]+=qty\n",
    "    if cart[product]==0: del cart[product]\n",
    "    print(f\"removed{qty} {product}(s) from the cart.\")\n",
    "    else:\n",
    "    print(f\"not enough{product}s in the cart.\")\n",
    "def calculate_total():\n",
    "    total=0\n",
    "    for product in cart:\n",
    "        total += products[product][0]*cart[product]\n",
    "    return total\n",
    "def apply_discount_and_tax(total)\n",
    "     return total*1.05*0.9\n",
    "#example\n",
    "add_to_cart(\"shirt\",3)\n",
    "add_to_cart(\"pant\",2)\n",
    "total=calculate_total()\n",
    "print(\"total befor discount and tax:\",total)\n",
    "final_total=apply_discount_and_tax(total)\n",
    "print(\"final total after discount and tax:\", final_total)"
   ]
  },
  {
   "cell_type": "code",
   "execution_count": null,
   "id": "c6722b86-98c5-4bd3-b1a1-a83e737feb52",
   "metadata": {},
   "outputs": [],
   "source": []
  }
 ],
 "metadata": {
  "kernelspec": {
   "display_name": "Python [conda env:base] *",
   "language": "python",
   "name": "conda-base-py"
  },
  "language_info": {
   "codemirror_mode": {
    "name": "ipython",
    "version": 3
   },
   "file_extension": ".py",
   "mimetype": "text/x-python",
   "name": "python",
   "nbconvert_exporter": "python",
   "pygments_lexer": "ipython3",
   "version": "3.12.7"
  }
 },
 "nbformat": 4,
 "nbformat_minor": 5
}
