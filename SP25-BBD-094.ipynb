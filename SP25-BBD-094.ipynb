{
 "cells": [
  {
   "cell_type": "code",
   "execution_count": 19,
   "id": "bc3bb534-6f47-4ca7-a126-4b976f51c6c8",
   "metadata": {},
   "outputs": [
    {
     "name": "stdout",
     "output_type": "stream",
     "text": [
      "hello, pyhton learner!\n"
     ]
    }
   ],
   "source": [
    "def say_hello():\n",
    "    print(\"hello, pyhton learner!\")\n",
    "say_hello()"
   ]
  },
  {
   "cell_type": "code",
   "execution_count": 1,
   "id": "68bc6635-c794-4549-b505-189ac77613f4",
   "metadata": {},
   "outputs": [
    {
     "name": "stdout",
     "output_type": "stream",
     "text": [
      "Thank you Hussnain\n"
     ]
    }
   ],
   "source": [
    "def greet_user(username):\n",
    "    print(f\"Thank you {username.title()}\")\n",
    "greet_user(\"hussnain\")"
   ]
  },
  {
   "cell_type": "code",
   "execution_count": 3,
   "id": "ed1697ba-d45d-43b7-ab4a-7cefdfbab06e",
   "metadata": {},
   "outputs": [
    {
     "name": "stdout",
     "output_type": "stream",
     "text": [
      "I have a dog.\n",
      "My dog name have a tommy.\n",
      "I have a dog.\n",
      "My dog name have a jacky.\n"
     ]
    }
   ],
   "source": [
    "def describe_pet(animal_type,pet_name):\n",
    "     print(f\"I have a {animal_type}.\")\n",
    "     print(f\"My {animal_type} name have a {pet_name}.\")\n",
    "describe_pet('dog','tommy')\n",
    "describe_pet(animal_type='dog',pet_name='jacky')"
   ]
  },
  {
   "cell_type": "code",
   "execution_count": 63,
   "id": "c01f362f-fb73-4eaf-bffc-899ab188ff0a",
   "metadata": {},
   "outputs": [
    {
     "name": "stdout",
     "output_type": "stream",
     "text": [
      "I have a dog.\n",
      "My dog name have a tommy.\n",
      "I have a cat.\n",
      "My cat name have a Whiskers.\n"
     ]
    }
   ],
   "source": [
    "def describe_pet(pet_name,animal_type='dog'):\n",
    "     print(f\"I have a {animal_type}.\")\n",
    "     print(f\"My {animal_type} name have a {pet_name}.\")\n",
    "describe_pet('tommy')\n",
    "describe_pet(animal_type='cat',pet_name='Whiskers')"
   ]
  },
  {
   "cell_type": "code",
   "execution_count": 5,
   "id": "739ca7ba-8e4a-4378-b9a5-e04b7d70c434",
   "metadata": {},
   "outputs": [
    {
     "name": "stdout",
     "output_type": "stream",
     "text": [
      "Muhammad Faizan\n"
     ]
    }
   ],
   "source": [
    "def get_formatted_name(first,last):\n",
    "    full_name=f\"{first} {last}\"\n",
    "    return full_name.title()\n",
    "formatted_name = get_formatted_name('Muhammad', 'Faizan')\n",
    "print(formatted_name)"
   ]
  },
  {
   "cell_type": "code",
   "execution_count": 7,
   "id": "06054425-0750-468f-baa4-30dabaf96e5c",
   "metadata": {},
   "outputs": [
    {
     "name": "stdout",
     "output_type": "stream",
     "text": [
      "Muhammad Faizan \n"
     ]
    }
   ],
   "source": [
    "def get_formatted_name(first,middle,last=''):\n",
    "    if middle:\n",
    "        full_name=f\"{first} {middle} {last}\"\n",
    "    else:\n",
    "        full_name=f\"{first} {last}\"\n",
    "    return full_name.title()\n",
    "formatted_name = get_formatted_name('Muhammad', 'Faizan')\n",
    "print(formatted_name)"
   ]
  },
  {
   "cell_type": "code",
   "execution_count": 9,
   "id": "0595736e-0d65-4967-9c13-da2c513a1f68",
   "metadata": {},
   "outputs": [
    {
     "name": "stdout",
     "output_type": "stream",
     "text": [
      "{'first_name': 'Muhammad', 'last_name': 'Faizan'}\n"
     ]
    }
   ],
   "source": [
    "def build_person(first, last, age=None):\n",
    "    person = {\n",
    "        'first_name': first.title(),\n",
    "        'last_name': last.title()\n",
    "    }\n",
    "    if age is not None:\n",
    "        person['age'] = age\n",
    "    return person\n",
    "person1 = build_person('Muhammad', 'Faizan')\n",
    "print(person1) "
   ]
  },
  {
   "cell_type": "code",
   "execution_count": 11,
   "id": "9ee119a2-e6ff-4f55-91cd-cafa747104dc",
   "metadata": {},
   "outputs": [
    {
     "name": "stdout",
     "output_type": "stream",
     "text": [
      "Thanks for joinind us, faizan!\n",
      "Thanks for joinind us, zain!\n",
      "Thanks for joinind us, usman!\n"
     ]
    }
   ],
   "source": [
    "def greet_users(usernames):\n",
    "    for username in usernames:\n",
    "        print(f\"Thanks for joinind us, {username}!\")\n",
    "user_list = ['faizan','zain','usman']\n",
    "greet_users(user_list)"
   ]
  },
  {
   "cell_type": "code",
   "execution_count": 13,
   "id": "785354ff-2c13-4a78-a553-d14aae775cff",
   "metadata": {},
   "outputs": [
    {
     "name": "stdout",
     "output_type": "stream",
     "text": [
      " pepperoni\n",
      " mushrooms\n",
      " green peppers\n"
     ]
    }
   ],
   "source": [
    "def make_pizza(*toppings):\n",
    "    for topping in toppings:\n",
    "        print(f\" {topping}\")\n",
    "make_pizza('pepperoni', 'mushrooms', 'green peppers')"
   ]
  },
  {
   "cell_type": "code",
   "execution_count": 115,
   "id": "d84ca376-5ee3-4ab9-904e-51fe2c44775e",
   "metadata": {},
   "outputs": [
    {
     "name": "stdout",
     "output_type": "stream",
     "text": [
      "{'first_name': 'John', 'last_name': 'Doe', 'location': 'New York', 'age': 30, 'profession': 'Engineer'}\n"
     ]
    }
   ],
   "source": [
    "def build_profile(first, last, **info):\n",
    "    profile = {}\n",
    "    profile['first_name'] = first\n",
    "    profile['last_name'] = last\n",
    "    for key, value in info.items():\n",
    "        profile[key] = value\n",
    "    return profile\n",
    "user_profile = build_profile('John', 'Doe', location='New York', age=30, profession='Engineer')\n",
    "print(user_profile)\n"
   ]
  },
  {
   "cell_type": "code",
   "execution_count": null,
   "id": "98c35859-75a9-4209-9424-a425c2988ca3",
   "metadata": {},
   "outputs": [],
   "source": []
  }
 ],
 "metadata": {
  "kernelspec": {
   "display_name": "Python [conda env:base] *",
   "language": "python",
   "name": "conda-base-py"
  },
  "language_info": {
   "codemirror_mode": {
    "name": "ipython",
    "version": 3
   },
   "file_extension": ".py",
   "mimetype": "text/x-python",
   "name": "python",
   "nbconvert_exporter": "python",
   "pygments_lexer": "ipython3",
   "version": "3.12.7"
  }
 },
 "nbformat": 4,
 "nbformat_minor": 5
}
