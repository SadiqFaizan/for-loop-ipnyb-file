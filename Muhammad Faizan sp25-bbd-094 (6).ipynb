{
 "cells": [
  {
   "cell_type": "code",
   "execution_count": 8,
   "id": "3e138d2e-2fbf-453d-927b-29621d296ee5",
   "metadata": {},
   "outputs": [
    {
     "name": "stdin",
     "output_type": "stream",
     "text": [
      "Enter a number: 2\n"
     ]
    },
    {
     "name": "stdout",
     "output_type": "stream",
     "text": [
      "The number is positive.\n"
     ]
    }
   ],
   "source": [
    "#Question 1\n",
    "num = int(input(\"Enter a number:\"))\n",
    "if num > 0:\n",
    "    print(\"The number is positive.\")\n",
    "elif num < 0: \n",
    "    print(\"The number is negative.\")\n",
    "else:\n",
    "    print(\"The number is zero.\")"
   ]
  },
  {
   "cell_type": "code",
   "execution_count": 5,
   "id": "dc61927d-3f94-4afd-a7d2-a378b47ae513",
   "metadata": {},
   "outputs": [
    {
     "name": "stdin",
     "output_type": "stream",
     "text": [
      "Enter a year: 0\n"
     ]
    },
    {
     "name": "stdout",
     "output_type": "stream",
     "text": [
      "It is a leap year!\n"
     ]
    }
   ],
   "source": [
    "#Question 2\n",
    "year = int(input(\"Enter a year:\"))\n",
    "if(year % 400 == 0):\n",
    "    print(\"It is a leap year!\")\n",
    "else:\n",
    "    print(\"It is a not leap year!\")"
   ]
  },
  {
   "cell_type": "code",
   "execution_count": 3,
   "id": "9d031855-f810-4725-aaa6-6fcede0ac57d",
   "metadata": {},
   "outputs": [
    {
     "name": "stdin",
     "output_type": "stream",
     "text": [
      "Enter first number: 5\n",
      "Enter opreater(+,_,*,/): +\n",
      "Enter second number: 5\n"
     ]
    },
    {
     "name": "stdout",
     "output_type": "stream",
     "text": [
      "10\n"
     ]
    }
   ],
   "source": [
    "#Questio 3\n",
    "num1 = int(input(\"Enter first number:\"))\n",
    "opreater = input(\"Enter opreater(+,_,*,/):\")\n",
    "num2 = int(input(\"Enter second number:\"))\n",
    "if opreater == \"+\":\n",
    "           print(num1+num2)\n",
    "elif opreater == \"_\":\n",
    "           print(num1_num2)\n",
    "elif opreater == \"*\":\n",
    "           print(num1*num2)\n",
    "elif opreater == \"/\":\n",
    "           print(num1/num2)\n",
    "else:\n",
    "    print(\"Invalid opreater\")\n",
    "           "
   ]
  },
  {
   "cell_type": "code",
   "execution_count": 7,
   "id": "ad27f9ac-2c42-49ed-8627-4e056b8eff5c",
   "metadata": {},
   "outputs": [
    {
     "name": "stdin",
     "output_type": "stream",
     "text": [
      "Enter the student's marks: 80\n"
     ]
    },
    {
     "name": "stdout",
     "output_type": "stream",
     "text": [
      "Grade:B\n"
     ]
    }
   ],
   "source": [
    "#Question 4\n",
    "marks = int(input(\"Enter the student's marks:\"))\n",
    "if marks >= 95:\n",
    "    print(\"Grade:A\")\n",
    "elif marks>= 70:\n",
    "    print(\"Grade:B\")\n",
    "elif mark >= 65:\n",
    "    print(\"Grade:C\")\n",
    "else:\n",
    "    print(\"Grade:F\")"
   ]
  },
  {
   "cell_type": "code",
   "execution_count": 9,
   "id": "43fba427-7969-4c0d-9551-dfaffb1dc24a",
   "metadata": {},
   "outputs": [
    {
     "name": "stdin",
     "output_type": "stream",
     "text": [
      "Enter your age: 21\n",
      "Enter your income in dollars: 25000\n"
     ]
    },
    {
     "name": "stdout",
     "output_type": "stream",
     "text": [
      "Not eligible\n"
     ]
    }
   ],
   "source": [
    "#Question 5\n",
    "age = int(input(\"Enter your age:\"))\n",
    "income = int(input(\"Enter your income in dollars:\"))\n",
    "if age >= 25 and income > 30000:\n",
    "    print(\"Eligible for member.\")\n",
    "else:\n",
    "    print(\"Not eligible\")"
   ]
  },
  {
   "cell_type": "code",
   "execution_count": 15,
   "id": "c950e872-1a50-4acd-8bc5-68699490e298",
   "metadata": {},
   "outputs": [
    {
     "name": "stdin",
     "output_type": "stream",
     "text": [
      "Enter a number 5\n"
     ]
    },
    {
     "name": "stdout",
     "output_type": "stream",
     "text": [
      "Fizz\n"
     ]
    }
   ],
   "source": [
    "#Question 6\n",
    "num = int(input(\"Enter a number\"))\n",
    "if num % 5 == 0 and num % 9 == 0:\n",
    "     print(\"FizzBuzz\")\n",
    "elif num % 5 == 0:\n",
    "     print(\"Fizz\")\n",
    "elif num % 9 == 0:\n",
    "    print(\"Buzz\")\n",
    "else:\n",
    "    print(\"num\")"
   ]
  },
  {
   "cell_type": "code",
   "execution_count": 73,
   "id": "ea773552-13cc-4c19-b63b-81938fa481fb",
   "metadata": {},
   "outputs": [
    {
     "name": "stdin",
     "output_type": "stream",
     "text": [
      "Enter a character: AEIOU\n"
     ]
    },
    {
     "name": "stdout",
     "output_type": "stream",
     "text": [
      "It is a vowel.\n"
     ]
    }
   ],
   "source": [
    "#Question 7\n",
    "char = input(\"Enter a character:\")\n",
    "#Check if the character is a vowel\n",
    "if char in \"aeiouAEIOU\":\n",
    "    print(\"It is a vowel.\")\n",
    "#Check if the character is a digit\n",
    "elif char.isdigit():\n",
    "    print(\"It  is a digit.\")\n",
    "#Check if the character is an alphabetic letter(Consonant.\")\n",
    "elif char.islapha():\n",
    "    print(\"It is a Consonant.\")\n",
    "#Special character\n",
    "else:\n",
    "    print(\"It is a special character.\")"
   ]
  },
  {
   "cell_type": "code",
   "execution_count": 27,
   "id": "d79a80c6-87b3-408f-b208-af463fdd4a13",
   "metadata": {},
   "outputs": [
    {
     "name": "stdin",
     "output_type": "stream",
     "text": [
      "Enter the day of the week: Sunday\n"
     ]
    },
    {
     "name": "stdout",
     "output_type": "stream",
     "text": [
      "Enjoy your weekend!\n"
     ]
    }
   ],
   "source": [
    "#Question 8\n",
    "day = input(\"Enter the day of the week:\")\n",
    "if day == \"Staurady\" or  day == \"Sunday\":\n",
    "     print(\"Enjoy your weekend!\")\n",
    "else:\n",
    "    print(\"Time to work!\")   "
   ]
  },
  {
   "cell_type": "code",
   "execution_count": 67,
   "id": "9a65b9e9-dcc0-4959-bb18-95d90603afa0",
   "metadata": {},
   "outputs": [
    {
     "name": "stdin",
     "output_type": "stream",
     "text": [
      "Enter your years of service: 9\n",
      "Enter your cerrent salary: 0.25\n"
     ]
    },
    {
     "name": "stdout",
     "output_type": "stream",
     "text": [
      "your bonus is: $0.03\n"
     ]
    }
   ],
   "source": [
    "#Qyestion 9\n",
    "years_of_service=int(input(\"Enter your years of service:\"))\n",
    "current_salary=float(input(\"Enter your cerrent salary:\"))\n",
    "if years_of_service>=10:\n",
    "   bonus=current_salary*0.20\n",
    "elif years_of_service>=5:\n",
    "   bonus=current_salary*0.10\n",
    "else:\n",
    "    bonus=current_salary*0.05\n",
    "print(f\"your bonus is: ${bonus:.2f}\")"
   ]
  },
  {
   "cell_type": "code",
   "execution_count": 55,
   "id": "5f7d7a8f-fa7e-4fb0-8999-35dadc3d63cd",
   "metadata": {},
   "outputs": [
    {
     "name": "stdin",
     "output_type": "stream",
     "text": [
      "Enter a number: 7\n"
     ]
    },
    {
     "name": "stdout",
     "output_type": "stream",
     "text": [
      "The number is positive and odd.\n"
     ]
    }
   ],
   "source": [
    "#Question 10\n",
    "num = float(input(\"Enter a number:\"))\n",
    "if num > 0:\n",
    "    if num % 2 == 0:\n",
    "        print(\"The number is positive and even.\")\n",
    "    else:\n",
    "        print(\"The number is positive and odd.\")\n",
    "elif num < 0:\n",
    "    print(\"The number is negative.\")\n",
    "else:\n",
    "    print(\"The number is zero.\")"
   ]
  },
  {
   "cell_type": "code",
   "execution_count": null,
   "id": "1ed17b82-b2e9-4f1f-b82c-9fc4a726b6d8",
   "metadata": {},
   "outputs": [],
   "source": []
  }
 ],
 "metadata": {
  "kernelspec": {
   "display_name": "Python [conda env:base] *",
   "language": "python",
   "name": "conda-base-py"
  },
  "language_info": {
   "codemirror_mode": {
    "name": "ipython",
    "version": 3
   },
   "file_extension": ".py",
   "mimetype": "text/x-python",
   "name": "python",
   "nbconvert_exporter": "python",
   "pygments_lexer": "ipython3",
   "version": "3.12.7"
  }
 },
 "nbformat": 4,
 "nbformat_minor": 5
}
