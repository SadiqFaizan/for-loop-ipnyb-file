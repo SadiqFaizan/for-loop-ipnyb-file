{
 "cells": [
  {
   "cell_type": "code",
   "execution_count": 23,
   "id": "c14c173f-7278-42df-aa31-3a7f88e4ed97",
   "metadata": {},
   "outputs": [
    {
     "name": "stdout",
     "output_type": "stream",
     "text": [
      "10\n",
      "9\n",
      "8\n",
      "7\n",
      "6\n",
      "5\n",
      "4\n",
      "3\n",
      "2\n",
      "1\n",
      "loop complete\n"
     ]
    }
   ],
   "source": [
    "#1 write a while loop to print numbers from 10 to 1, and the print\"loop complete!\".\n",
    "count = 10\n",
    "while count > 0:\n",
    "    print(count)\n",
    "    count -= 1\n",
    "print(\"loop complete\")"
   ]
  },
  {
   "cell_type": "code",
   "execution_count": 19,
   "id": "20a32266-f2cd-4e4b-be08-788bf437294a",
   "metadata": {},
   "outputs": [
    {
     "name": "stdout",
     "output_type": "stream",
     "text": [
      "2\n",
      "4\n",
      "6\n",
      "8\n",
      "10\n",
      "12\n",
      "14\n",
      "16\n",
      "18\n",
      "20\n",
      "all the even number s from 2 to 20\n"
     ]
    }
   ],
   "source": [
    "#2 use a while loop to print all even numbers from 20 to 2\n",
    "num=2\n",
    "while num <= 20:\n",
    "    print(num)\n",
    "    num += 2\n",
    "print(\"all the even number s from 2 to 20\")"
   ]
  },
  {
   "cell_type": "code",
   "execution_count": 35,
   "id": "48d16ce8-59d9-4afb-b5e2-f7baa5a2e367",
   "metadata": {},
   "outputs": [
    {
     "name": "stdin",
     "output_type": "stream",
     "text": [
      "enter a number: 4\n"
     ]
    },
    {
     "name": "stdout",
     "output_type": "stream",
     "text": [
      "the sum of the first 4 natural number is: 0\n"
     ]
    }
   ],
   "source": [
    "#3 ask the user to enter a number n,and use a while loop to calculate and print the sum of the first in natural numbers.\n",
    "n=int(input(\"enter a number:\"))\n",
    "sum=0\n",
    "h=2\n",
    "while h >= n:\n",
    "    h+=1\n",
    "print(\"the sum of the first\",n, \"natural number is:\",sum) "
   ]
  },
  {
   "cell_type": "code",
   "execution_count": 5,
   "id": "553399d9-c826-4937-ad74-580bb1528f51",
   "metadata": {},
   "outputs": [
    {
     "name": "stdin",
     "output_type": "stream",
     "text": [
      "enter a positive number: -5\n",
      "enter a positive number: 4\n"
     ]
    },
    {
     "name": "stdout",
     "output_type": "stream",
     "text": [
      "thank you!\n"
     ]
    }
   ],
   "source": [
    "#4  write a loop that kees  asking the user to enter a piositive number. once a valid number is entered, print\"thank you\".\n",
    "i=-1\n",
    "while i < 0:\n",
    "     i= int (input(\"enter a positive number:\"))\n",
    "print(\"thank you!\")"
   ]
  },
  {
   "cell_type": "code",
   "execution_count": 10,
   "id": "c1ebb03d-038d-43a7-b300-ee4ea13f2c56",
   "metadata": {},
   "outputs": [
    {
     "name": "stdout",
     "output_type": "stream",
     "text": [
      "data\n",
      "data\n",
      "data\n",
      "data\n"
     ]
    }
   ],
   "source": [
    "#5 given a string s=\"data\", use a while loop to print each character in the string one per line.\n",
    "s=\"data\"\n",
    "g=0\n",
    "while g < len(s):\n",
    "    print(s)\n",
    "    g+=1"
   ]
  },
  {
   "cell_type": "code",
   "execution_count": 5,
   "id": "797cf98d-c8f0-4697-9510-864c41e7bc10",
   "metadata": {},
   "outputs": [
    {
     "name": "stdin",
     "output_type": "stream",
     "text": [
      "enter the password: analyst123\n",
      "enter the password: analyist1255\n"
     ]
    },
    {
     "name": "stdout",
     "output_type": "stream",
     "text": [
      "corect password\n"
     ]
    }
   ],
   "source": [
    "corect_password= \"analyist1255\"\n",
    "user_input=\"\"\n",
    "while user_input != corect_password:\n",
    "    user_input=input(\"enter the password:\")\n",
    "print(\"corect password\")"
   ]
  },
  {
   "cell_type": "code",
   "execution_count": 12,
   "id": "d65d8c41-1440-4861-933b-6d39ae62216d",
   "metadata": {},
   "outputs": [
    {
     "name": "stdin",
     "output_type": "stream",
     "text": [
      "guess the secret number: 6\n"
     ]
    },
    {
     "name": "stdout",
     "output_type": "stream",
     "text": [
      "too low\n"
     ]
    },
    {
     "name": "stdin",
     "output_type": "stream",
     "text": [
      "guess the secret number: 3\n"
     ]
    },
    {
     "name": "stdout",
     "output_type": "stream",
     "text": [
      "too low\n"
     ]
    },
    {
     "name": "stdin",
     "output_type": "stream",
     "text": [
      "guess the secret number: 10\n"
     ]
    },
    {
     "name": "stdout",
     "output_type": "stream",
     "text": [
      "too high\n"
     ]
    },
    {
     "name": "stdin",
     "output_type": "stream",
     "text": [
      "guess the secret number: 0\n"
     ]
    },
    {
     "name": "stdout",
     "output_type": "stream",
     "text": [
      "too low\n"
     ]
    },
    {
     "name": "stdin",
     "output_type": "stream",
     "text": [
      "guess the secret number: 8\n"
     ]
    },
    {
     "name": "stdout",
     "output_type": "stream",
     "text": [
      "congratulation! you guessed it right.\n"
     ]
    }
   ],
   "source": [
    "#7 write a while loop that lets the user guess a secret number(e.g., 7)\n",
    "secret_number=8\n",
    "guess= None\n",
    "while  guess!=secret_number:\n",
    "    guess = int(input(\"guess the secret number:\"))\n",
    "    if guess< secret_number:\n",
    "        print(\"too low\")\n",
    "    elif guess> secret_number:\n",
    "        print(\"too high\")\n",
    "print(\"congratulation! you guessed it right.\")"
   ]
  },
  {
   "cell_type": "code",
   "execution_count": 16,
   "id": "f4069224-26e5-46ea-8672-8422b100f011",
   "metadata": {},
   "outputs": [
    {
     "name": "stdin",
     "output_type": "stream",
     "text": [
      "Enter a positive integer:  6\n"
     ]
    },
    {
     "name": "stdout",
     "output_type": "stream",
     "text": [
      "Number of digits: 1\n"
     ]
    }
   ],
   "source": [
    "#8 Ask the user to enter a positive integer and use a while loop to count how many \n",
    "number = int(input(\"Enter a positive integer: \"))\n",
    "if number <= 0:\n",
    "    print(\"Please enter a positive integer.\")\n",
    "else:\n",
    "    count = 0\n",
    "    while number > 0:\n",
    "        number = number // 10 \n",
    "        count += 1\n",
    "\n",
    "    print(\"Number of digits:\", count)"
   ]
  },
  {
   "cell_type": "code",
   "execution_count": 18,
   "id": "4fb99cf4-3d88-4533-a02b-5173c28044f6",
   "metadata": {},
   "outputs": [
    {
     "name": "stdin",
     "output_type": "stream",
     "text": [
      "Enter a number:  6\n"
     ]
    },
    {
     "name": "stdout",
     "output_type": "stream",
     "text": [
      "Multiplication Table of 6:\n",
      "6 x 1 = 6\n",
      "6 x 2 = 12\n",
      "6 x 3 = 18\n",
      "6 x 4 = 24\n",
      "6 x 5 = 30\n",
      "6 x 6 = 36\n",
      "6 x 7 = 42\n",
      "6 x 8 = 48\n",
      "6 x 9 = 54\n",
      "6 x 10 = 60\n"
     ]
    }
   ],
   "source": [
    "#9 Ask the user to input a number, and then use a while loop to print its multiplication tabel from 1 to 10\n",
    "num = int(input(\"Enter a number: \"))\n",
    "i = 1\n",
    "print(f\"Multiplication Table of {num}:\")\n",
    "while i <= 10:\n",
    "    print(f\"{num} x {i} = {num * i}\")\n",
    "    i += 1"
   ]
  },
  {
   "cell_type": "code",
   "execution_count": 1,
   "id": "33c29147-4290-4e2c-9f29-d4c8ce075738",
   "metadata": {},
   "outputs": [
    {
     "name": "stdout",
     "output_type": "stream",
     "text": [
      "Enter numbers one by one (enter -1 to stop):\n"
     ]
    },
    {
     "name": "stdin",
     "output_type": "stream",
     "text": [
      "Enter a number:  5\n",
      "Enter a number:  1\n",
      "Enter a number:  -1\n"
     ]
    },
    {
     "name": "stdout",
     "output_type": "stream",
     "text": [
      "Average of entered numbers (excluding -1): 2.0\n"
     ]
    }
   ],
   "source": [
    "#10 Write a program that keeps asking the user to enter numbers until they enter -1. After that, print the average of the entered numbers (excluding -1).\n",
    "total = 0\n",
    "count = 1\n",
    "\n",
    "print(\"Enter numbers one by one (enter -1 to stop):\")\n",
    "\n",
    "while True:\n",
    "    num = float(input(\"Enter a number: \"))\n",
    "    if num == -1:\n",
    "        break\n",
    "    total += num\n",
    "    count += 1\n",
    "if count == 0:\n",
    "    print(\"No valid numbers were entered.\")\n",
    "else:\n",
    "    average = total / count\n",
    "    print(\"Average of entered numbers (excluding -1):\", average)"
   ]
  }
 ],
 "metadata": {
  "kernelspec": {
   "display_name": "Python [conda env:base] *",
   "language": "python",
   "name": "conda-base-py"
  },
  "language_info": {
   "codemirror_mode": {
    "name": "ipython",
    "version": 3
   },
   "file_extension": ".py",
   "mimetype": "text/x-python",
   "name": "python",
   "nbconvert_exporter": "python",
   "pygments_lexer": "ipython3",
   "version": "3.12.7"
  }
 },
 "nbformat": 4,
 "nbformat_minor": 5
}
